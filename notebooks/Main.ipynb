{
 "cells": [
  {
   "cell_type": "code",
   "execution_count": null,
   "id": "fc7f39a2",
   "metadata": {},
   "outputs": [],
   "source": [
    "import sys, os\n",
    "#Add the project root folder to the path \n",
    "sys.path.append(os.path.abspath(\"..\"))\n",
    "\n",
    "import lib.video_processing as vp\n",
    "import lib.extract_features as ef\n",
    "import lib.run_ml_classification as cp"
   ]
  },
  {
   "cell_type": "code",
   "execution_count": null,
   "id": "7c48d0d1",
   "metadata": {},
   "outputs": [],
   "source": [
    "#Define videos path\n",
    "path_videos = '/home/jas0003/videos_FIS/'\n",
    "\n",
    "\n",
    "dataset_identifier=\"fis\""
   ]
  },
  {
   "cell_type": "code",
   "execution_count": null,
   "id": "a0366194",
   "metadata": {},
   "outputs": [],
   "source": [
    "#Extract baseline baseline kinematic measures time series\n",
    "vp.process_video(path_videos,dataset_identifier)"
   ]
  },
  {
   "cell_type": "code",
   "execution_count": null,
   "id": "a0f8bdb9",
   "metadata": {},
   "outputs": [],
   "source": [
    "#Extract all features: classical + tsfresh + fi_tsfresh\n",
    "ef.extract_all_features(dataset_identifier)"
   ]
  },
  {
   "cell_type": "code",
   "execution_count": null,
   "id": "ce561249",
   "metadata": {},
   "outputs": [],
   "source": [
    "#ML tranining and validation using classical approach\n",
    "features_type=\"classical\"\n",
    "cp.classify_video(dataset_identifier,features_type)"
   ]
  },
  {
   "cell_type": "code",
   "execution_count": null,
   "id": "d57d2426",
   "metadata": {},
   "outputs": [],
   "source": [
    "#ML tranining and validation using tsfresh approach\n",
    "features_type=\"tsfresh\"\n",
    "cp.classify_video(dataset_identifier,features_type)"
   ]
  },
  {
   "cell_type": "code",
   "execution_count": null,
   "id": "be7e4cf1",
   "metadata": {},
   "outputs": [],
   "source": [
    "#ML tranining and validation using fi_tsfresh approach\n",
    "features_type=\"fi_tsfresh\"\n",
    "cp.classify_video(dataset_identifier,features_type)"
   ]
  }
 ],
 "metadata": {
  "kernelspec": {
   "display_name": "Python 3 (ipykernel)",
   "language": "python",
   "name": "python3"
  },
  "language_info": {
   "codemirror_mode": {
    "name": "ipython",
    "version": 3
   },
   "file_extension": ".py",
   "mimetype": "text/x-python",
   "name": "python",
   "nbconvert_exporter": "python",
   "pygments_lexer": "ipython3",
   "version": "3.11.4"
  }
 },
 "nbformat": 4,
 "nbformat_minor": 5
}
